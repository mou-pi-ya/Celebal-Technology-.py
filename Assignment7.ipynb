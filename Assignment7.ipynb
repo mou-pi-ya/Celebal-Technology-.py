{
  "cells": [
    {
      "cell_type": "markdown",
      "metadata": {
        "id": "view-in-github",
        "colab_type": "text"
      },
      "source": [
        "<a href=\"https://colab.research.google.com/github/mou-pi-ya/Celebal-Technology-.py/blob/main/Assignment7.ipynb\" target=\"_parent\"><img src=\"https://colab.research.google.com/assets/colab-badge.svg\" alt=\"Open In Colab\"/></a>"
      ]
    },
    {
      "cell_type": "code",
      "source": [
        "# Example using a simple Iris classifier\n",
        "\n",
        "from sklearn.datasets import load_iris\n",
        "from sklearn.ensemble import RandomForestClassifier\n",
        "import pickle\n",
        "\n",
        "# Load data\n",
        "iris = load_iris()\n",
        "X, y = iris.data, iris.target\n",
        "\n",
        "# Train model\n",
        "model = RandomForestClassifier()\n",
        "model.fit(X, y)\n",
        "\n",
        "# Save model\n",
        "with open('iris_model.pkl', 'wb') as f:\n",
        "    pickle.dump(model, f)\n"
      ],
      "metadata": {
        "id": "xv0bAH8hSz8I"
      },
      "execution_count": null,
      "outputs": []
    },
    {
      "cell_type": "code",
      "source": [
        "!pip install streamlit pyngrok --quiet"
      ],
      "metadata": {
        "colab": {
          "base_uri": "https://localhost:8080/"
        },
        "id": "lUI_AVk5UJ6_",
        "outputId": "d0813c67-a02d-40a2-dc32-8d6acc2e44e9"
      },
      "execution_count": null,
      "outputs": [
        {
          "output_type": "stream",
          "name": "stdout",
          "text": [
            "\u001b[2K     \u001b[90m━━━━━━━━━━━━━━━━━━━━━━━━━━━━━━━━━━━━━━━━\u001b[0m \u001b[32m44.3/44.3 kB\u001b[0m \u001b[31m3.6 MB/s\u001b[0m eta \u001b[36m0:00:00\u001b[0m\n",
            "\u001b[2K   \u001b[90m━━━━━━━━━━━━━━━━━━━━━━━━━━━━━━━━━━━━━━━━\u001b[0m \u001b[32m10.1/10.1 MB\u001b[0m \u001b[31m106.1 MB/s\u001b[0m eta \u001b[36m0:00:00\u001b[0m\n",
            "\u001b[2K   \u001b[90m━━━━━━━━━━━━━━━━━━━━━━━━━━━━━━━━━━━━━━━━\u001b[0m \u001b[32m6.9/6.9 MB\u001b[0m \u001b[31m103.3 MB/s\u001b[0m eta \u001b[36m0:00:00\u001b[0m\n",
            "\u001b[2K   \u001b[90m━━━━━━━━━━━━━━━━━━━━━━━━━━━━━━━━━━━━━━━━\u001b[0m \u001b[32m79.1/79.1 kB\u001b[0m \u001b[31m7.6 MB/s\u001b[0m eta \u001b[36m0:00:00\u001b[0m\n",
            "\u001b[?25h"
          ]
        }
      ]
    },
    {
      "cell_type": "code",
      "source": [
        "from pyngrok import ngrok\n",
        "\n",
        "# Set your authtoken here\n",
        "ngrok.set_auth_token(\"2zqsEPCiQg3mbeOU7UgRpX21dLL_2Kr8vcG4QcxbnwSADgLgd\")\n"
      ],
      "metadata": {
        "id": "-k11pbpLWO_4"
      },
      "execution_count": null,
      "outputs": []
    },
    {
      "cell_type": "code",
      "source": [
        "from pyngrok import ngrok\n",
        "\n",
        "# Use your actual token here (keep quotes)\n",
        "ngrok.set_auth_token(\"2zqsEPCiQg3mbeOU7UgRpX21dLL_2Kr8vcG4QcxbnwSADgLgd\")\n"
      ],
      "metadata": {
        "id": "9d-63KfpXFMj"
      },
      "execution_count": null,
      "outputs": []
    },
    {
      "cell_type": "code",
      "source": [
        "%%writefile app.py\n",
        "import streamlit as st\n",
        "import pickle\n",
        "import numpy as np\n",
        "\n",
        "# Load model\n",
        "with open(\"iris_model.pkl\", \"rb\") as f:\n",
        "    model = pickle.load(f)\n",
        "\n",
        "st.title(\"🌸 Iris Flower Predictor\")\n",
        "st.write(\"Enter the flower features to predict its type\")\n",
        "\n",
        "# Sliders for input\n",
        "sepal_length = st.slider(\"Sepal Length\", 4.0, 8.0, 5.1)\n",
        "sepal_width = st.slider(\"Sepal Width\", 2.0, 4.5, 3.5)\n",
        "petal_length = st.slider(\"Petal Length\", 1.0, 7.0, 1.4)\n",
        "petal_width = st.slider(\"Petal Width\", 0.1, 2.5, 0.2)\n",
        "\n",
        "input_data = np.array([[sepal_length, sepal_width, petal_length, petal_width]])\n",
        "\n",
        "# Predict\n",
        "prediction = model.predict(input_data)\n",
        "labels = ['Setosa', 'Versicolor', 'Virginica']\n",
        "\n",
        "st.subheader(\"Prediction:\")\n",
        "st.success(f\"This flower is: **{labels[prediction[0]]}**\")\n"
      ],
      "metadata": {
        "id": "969mNGOwXNOi",
        "outputId": "7e12c11e-eb02-48cf-b548-5fab46ed7c58",
        "colab": {
          "base_uri": "https://localhost:8080/"
        }
      },
      "execution_count": null,
      "outputs": [
        {
          "output_type": "stream",
          "name": "stdout",
          "text": [
            "Overwriting app.py\n"
          ]
        }
      ]
    },
    {
      "cell_type": "code",
      "source": [
        "from sklearn.datasets import load_iris\n",
        "from sklearn.ensemble import RandomForestClassifier\n",
        "import pickle\n",
        "\n",
        "iris = load_iris()\n",
        "X, y = iris.data, iris.target\n",
        "\n",
        "model = RandomForestClassifier()\n",
        "model.fit(X, y)\n",
        "\n",
        "with open(\"iris_model.pkl\", \"wb\") as f:\n",
        "    pickle.dump(model, f)\n"
      ],
      "metadata": {
        "id": "vzw4rCdbXP_2"
      },
      "execution_count": null,
      "outputs": []
    },
    {
      "cell_type": "code",
      "source": [
        "import time\n",
        "from pyngrok import ngrok\n",
        "\n",
        "# Kill previous tunnels\n",
        "ngrok.kill()\n",
        "\n",
        "# Run the Streamlit app\n",
        "!streamlit run app.py &>/content/log.txt &\n",
        "\n",
        "# Give it a few seconds to launch\n",
        "time.sleep(5)\n",
        "\n",
        "# Create tunnel on port 8501 (HTTP protocol)\n",
        "public_url = ngrok.connect(8501, \"http\")\n",
        "print(f\"🚀 App is live at: {public_url}\")\n"
      ],
      "metadata": {
        "id": "SG5bWvA9XSny",
        "outputId": "5afb6c5a-9a5b-4091-813f-4023ec94c05a",
        "colab": {
          "base_uri": "https://localhost:8080/"
        }
      },
      "execution_count": null,
      "outputs": [
        {
          "output_type": "stream",
          "name": "stdout",
          "text": [
            "🚀 App is live at: NgrokTunnel: \"https://6147a6911f75.ngrok-free.app\" -> \"http://localhost:8501\"\n"
          ]
        }
      ]
    },
    {
      "cell_type": "code",
      "source": [],
      "metadata": {
        "id": "i-pnuj02Xi24"
      },
      "execution_count": null,
      "outputs": []
    }
  ],
  "metadata": {
    "colab": {
      "toc_visible": true,
      "provenance": [],
      "include_colab_link": true
    },
    "kernelspec": {
      "display_name": "Python 3",
      "name": "python3"
    }
  },
  "nbformat": 4,
  "nbformat_minor": 0
}